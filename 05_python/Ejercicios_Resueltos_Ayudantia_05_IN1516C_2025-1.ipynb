{
  "cells": [
    {
      "cell_type": "markdown",
      "metadata": {
        "id": "KZZtGEBzmPdA"
      },
      "source": [
        "# Ayudantía 5 | Herramientas de Programación (IN1516C) | Semestre 2025-1"
      ]
    },
    {
      "cell_type": "markdown",
      "metadata": {
        "id": "aqKL1pXJkrh1"
      },
      "source": [
        "## Problema 1"
      ]
    },
    {
      "cell_type": "code",
      "execution_count": null,
      "metadata": {
        "colab": {
          "base_uri": "https://localhost:8080/"
        },
        "id": "bMzpB9vxkmg-",
        "outputId": "7b768384-519f-4ff8-cb55-70fd76c0de4b"
      },
      "outputs": [
        {
          "name": "stdout",
          "output_type": "stream",
          "text": [
            "Ingrese el valor de la arista del cuadrado: 5\n",
            "El área del cuadrado es 25.0\n"
          ]
        }
      ],
      "source": [
        "\"\"\"\n",
        "Problema 1:\n",
        "Escriba un código en Python que calcule el área de un cuadrado, al\n",
        "ingresar el valor de su arista. Si el valor ingresado es negativo, debe\n",
        "aparecer un mensaje de “ERROR” y no mostrar el resultado.\n",
        "\"\"\"\n",
        "\n",
        "arista = float(input(\"Ingrese el valor de la arista del cuadrado: \"))\n",
        "\n",
        "if arista < 0:\n",
        "  print(\"ERROR\")\n",
        "else:\n",
        "  area = arista * arista\n",
        "  print(f\"El área del cuadrado es {area}\")"
      ]
    },
    {
      "cell_type": "markdown",
      "metadata": {
        "id": "A_Kielukkrz8"
      },
      "source": [
        "## Problema 2"
      ]
    },
    {
      "cell_type": "code",
      "execution_count": null,
      "metadata": {
        "colab": {
          "base_uri": "https://localhost:8080/"
        },
        "id": "jtFTPJf2ksJV",
        "outputId": "05464045-0c60-4aad-fedb-47793dbda302"
      },
      "outputs": [
        {
          "name": "stdout",
          "output_type": "stream",
          "text": [
            "Ingrese el primer número: 30\n",
            "Ingrese el segundo número: 50\n",
            "La cantidad de números entre 30 y 50 es 20\n"
          ]
        }
      ],
      "source": [
        "\"\"\"\n",
        "Problema 2:\n",
        "Escriba un código en Python que calcule cuántos números hay entre 2\n",
        "números introducidos por el usuario. El primer número debe ser menor al\n",
        "segundo número ingresado, de no ser así, debe aparecer un mensaje de error\n",
        "\"\"\"\n",
        "\n",
        "num_1 = int(input(\"Ingrese el primer número: \"))\n",
        "num_2 = int(input(\"Ingrese el segundo número: \"))\n",
        "\n",
        "if num_1 < num_2:\n",
        "  cant_numeros = num_2 - num_1\n",
        "  print(f\"La cantidad de números entre {num_1} y {num_2} es {cant_numeros}\")\n",
        "else:\n",
        "  print(\"ERROR\")"
      ]
    },
    {
      "cell_type": "markdown",
      "metadata": {
        "id": "qjDLqdT0ksW0"
      },
      "source": [
        "## Problema 3"
      ]
    },
    {
      "cell_type": "code",
      "execution_count": null,
      "metadata": {
        "colab": {
          "base_uri": "https://localhost:8080/"
        },
        "id": "H3fRhAwkktV1",
        "outputId": "67eadf6f-1d4c-4e9f-d23e-64578aff708b"
      },
      "outputs": [
        {
          "name": "stdout",
          "output_type": "stream",
          "text": [
            "Ingrese un valor de x: 5\n",
            "El resultado es 0.05\n"
          ]
        }
      ],
      "source": [
        "\"\"\"\n",
        "Problema 3:\n",
        "Sea la función por partes:\n",
        "\n",
        "f(x) =  x^3 - 48        x < 0\n",
        "        sqrt(x-4)/20    0 <= x <= 200\n",
        "        x^0,76 - 100    x > 200\n",
        "\n",
        "Escriba un código en Python que calcule el valor de la función,\n",
        "dependiendo de un valor x ingresado por el usuario.\n",
        "\"\"\"\n",
        "\n",
        "x = float(input(\"Ingrese un valor de x: \"))\n",
        "\n",
        "if x < 0:\n",
        "  resultado = x**3 - 48\n",
        "  print(f\"El resultado es {resultado}\")\n",
        "elif x >= 0 and x <= 200:\n",
        "  resultado = ((x-4)**-1) / 20\n",
        "  print(f\"El resultado es {resultado}\")\n",
        "elif x > 200:\n",
        "  resultado = x**0.76 - 100\n",
        "  print(f\"El resultado es {resultado}\")\n",
        "else:\n",
        "  print(\"El valor de x ingresado está fuera del rango.\")"
      ]
    },
    {
      "cell_type": "markdown",
      "metadata": {
        "id": "0aJVOY3-ktrk"
      },
      "source": [
        "## Problema 4"
      ]
    },
    {
      "cell_type": "code",
      "execution_count": null,
      "metadata": {
        "colab": {
          "base_uri": "https://localhost:8080/"
        },
        "id": "zLU-ReYXkvUM",
        "outputId": "6620ff80-aa79-4c92-c944-eaf18089124e"
      },
      "outputs": [
        {
          "name": "stdout",
          "output_type": "stream",
          "text": [
            "1\n",
            "2\n",
            "3\n",
            "4\n",
            "5\n",
            "6\n",
            "7\n",
            "8\n",
            "9\n",
            "10\n",
            "11\n",
            "12\n",
            "13\n",
            "14\n",
            "15\n",
            "16\n",
            "17\n",
            "18\n",
            "19\n",
            "20\n"
          ]
        }
      ],
      "source": [
        "\"\"\"\n",
        "Problema 4:\n",
        "Escriba un código en Python que imprima por pantalla los números del\n",
        "1 al 20.\n",
        "\"\"\"\n",
        "\n",
        "i = 1\n",
        "\n",
        "for i in range(1,21):\n",
        "  print(i)\n",
        "  i = i + 1"
      ]
    },
    {
      "cell_type": "markdown",
      "metadata": {
        "id": "U7S7uEJ1kvtd"
      },
      "source": [
        "## Problema 5"
      ]
    },
    {
      "cell_type": "code",
      "execution_count": null,
      "metadata": {
        "colab": {
          "base_uri": "https://localhost:8080/"
        },
        "id": "GP9ahLwakwDE",
        "outputId": "01f81665-55d0-4b73-fc30-53d62c434374"
      },
      "outputs": [
        {
          "name": "stdout",
          "output_type": "stream",
          "text": [
            "7\n",
            "14\n",
            "21\n",
            "28\n",
            "35\n",
            "42\n",
            "49\n",
            "56\n",
            "63\n",
            "70\n",
            "77\n",
            "84\n",
            "91\n",
            "98\n",
            "105\n",
            "112\n",
            "119\n",
            "126\n",
            "133\n",
            "140\n"
          ]
        }
      ],
      "source": [
        "\"\"\"\n",
        "Problema 5:\n",
        "Escriba un código en Python que imprima por pantalla los números\n",
        "múltiplos de 7, empezando por el 7 y terminando en 140.\n",
        "\"\"\"\n",
        "\n",
        "i = 7\n",
        "\n",
        "for i in range(7,141):\n",
        "  if i % 7 == 0:\n",
        "    print(i)\n",
        "  i = i + 1"
      ]
    },
    {
      "cell_type": "markdown",
      "metadata": {
        "id": "3Cy5BpFEkwZF"
      },
      "source": [
        "## Problema 6"
      ]
    },
    {
      "cell_type": "code",
      "execution_count": null,
      "metadata": {
        "colab": {
          "base_uri": "https://localhost:8080/"
        },
        "id": "YVQLlwbSkwsc",
        "outputId": "ef85bd1e-0c40-45cc-e242-b881c029ffaf"
      },
      "outputs": [
        {
          "name": "stdout",
          "output_type": "stream",
          "text": [
            "Ingrese el primer número: 45\n",
            "Ingrese el segundo número: 60\n",
            "46\n",
            "48\n",
            "50\n",
            "52\n",
            "54\n",
            "56\n",
            "58\n",
            "60\n"
          ]
        }
      ],
      "source": [
        "\"\"\"\n",
        "Problema 6:\n",
        "Escriba un código en Python que pida al usuario ingresar dos números.\n",
        "El primero debe ser menor que el segundo. Luego, se deben imprimir por\n",
        "pantalla los números pares que se encuentren entre los números\n",
        "introducidos.\n",
        "\"\"\"\n",
        "\n",
        "num_1 = int(input(\"Ingrese el primer número: \"))\n",
        "num_2 = int(input(\"Ingrese el segundo número: \"))\n",
        "\n",
        "if num_1 < num_2:\n",
        "  cant_numeros = num_2 - num_1\n",
        "  i = num_1\n",
        "  for i in range(num_1, num_2 + 1):\n",
        "    if i % 2 == 0:\n",
        "      print(i)\n",
        "    i = i + 1\n",
        "else:\n",
        "  print(\"ERROR\")"
      ]
    }
  ],
  "metadata": {
    "colab": {
      "provenance": []
    },
    "kernelspec": {
      "display_name": "Python 3",
      "name": "python3"
    },
    "language_info": {
      "name": "python"
    }
  },
  "nbformat": 4,
  "nbformat_minor": 0
}
