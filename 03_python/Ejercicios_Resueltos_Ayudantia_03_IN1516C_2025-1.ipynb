{
  "nbformat": 4,
  "nbformat_minor": 0,
  "metadata": {
    "colab": {
      "provenance": []
    },
    "kernelspec": {
      "name": "python3",
      "display_name": "Python 3"
    },
    "language_info": {
      "name": "python"
    }
  },
  "cells": [
    {
      "cell_type": "markdown",
      "source": [
        "# Ayudantía 3 | Herramientas de Programación (IN1516C) | Semestre 2025-1"
      ],
      "metadata": {
        "id": "AHM6bljW7Wh_"
      }
    },
    {
      "cell_type": "markdown",
      "source": [
        "## Problema 1"
      ],
      "metadata": {
        "id": "ZOr2USMG7YiP"
      }
    },
    {
      "cell_type": "code",
      "execution_count": 1,
      "metadata": {
        "colab": {
          "base_uri": "https://localhost:8080/"
        },
        "id": "0ygGcaJ47Q7r",
        "outputId": "2b229b8f-af6a-4ccd-86d7-86bb54d27e8a"
      },
      "outputs": [
        {
          "output_type": "stream",
          "name": "stdout",
          "text": [
            "Ingrese un número: 3\n",
            "3 es un número positivo\n"
          ]
        }
      ],
      "source": [
        "\"\"\"\n",
        "Problema 1:\n",
        "Escriba un código en Python que reciba un número entero, y diga si\n",
        "es positivo o negativo. Para simplicidad del ejercicio, asuma 0 como\n",
        "número positivo.\n",
        "\"\"\"\n",
        "\n",
        "num = int(input(\"Ingrese un número: \"))\n",
        "\n",
        "if num >= 0:\n",
        "    print(f\"{num} es un número positivo\")\n",
        "else:\n",
        "    print(f\"{num} es un número negativo\")"
      ]
    },
    {
      "cell_type": "markdown",
      "source": [
        "## Problema 2"
      ],
      "metadata": {
        "id": "ukZcCfPC8HLW"
      }
    },
    {
      "cell_type": "code",
      "source": [
        "\"\"\"\n",
        "Problema 2:\n",
        "Escriba un código en Python que determine si una persona es mayor o\n",
        "menor de edad. Si la persona tiene igual o más de 18 años, debe imprimir\n",
        "“Eres mayor de edad”, en caso contrario, debe imprimir “Eres menor de\n",
        "edad”.\n",
        "\"\"\"\n",
        "\n",
        "edad = int(input(\"Ingrese su edad: \"))\n",
        "\n",
        "if edad >= 18:\n",
        "    print(\"Usted es mayor de edad\")\n",
        "else:\n",
        "    print(\"Usted es menor de edad\")"
      ],
      "metadata": {
        "colab": {
          "base_uri": "https://localhost:8080/"
        },
        "id": "EAP7bDlX8I6E",
        "outputId": "d84d65aa-815a-4961-8ccb-10a6c08929fb"
      },
      "execution_count": 2,
      "outputs": [
        {
          "output_type": "stream",
          "name": "stdout",
          "text": [
            "Ingrese su edad: 18\n",
            "Usted es mayor de edad\n"
          ]
        }
      ]
    },
    {
      "cell_type": "markdown",
      "source": [
        "## Problema 3"
      ],
      "metadata": {
        "id": "XcH57zdc8bYK"
      }
    },
    {
      "cell_type": "code",
      "source": [
        "\"\"\"\n",
        "Problema 3:\n",
        "Escriba un código en Python que compare 2 números y diga cuál es el mayor.\n",
        "En caso de ser iguales, se debe imprimir “Son iguales”.\n",
        "\"\"\"\n",
        "\n",
        "a = int(input(\"Primer número: \"))\n",
        "b = int(input(\"Segundo número: \"))\n",
        "\n",
        "if a > b:\n",
        "    print(\"El primero es mayor\")\n",
        "elif b > a:\n",
        "    print(\"El segundo es mayor\")\n",
        "else:\n",
        "    print(\"Son iguales\")"
      ],
      "metadata": {
        "colab": {
          "base_uri": "https://localhost:8080/"
        },
        "id": "dxapk91C8che",
        "outputId": "d28aa66f-6b94-456b-fb8e-c95b74ebe195"
      },
      "execution_count": 3,
      "outputs": [
        {
          "output_type": "stream",
          "name": "stdout",
          "text": [
            "Primer número: 2\n",
            "Segundo número: 4\n",
            "El segundo es mayor\n"
          ]
        }
      ]
    },
    {
      "cell_type": "markdown",
      "source": [
        "## Problema 4"
      ],
      "metadata": {
        "id": "nmnyJ8Dq89O4"
      }
    },
    {
      "cell_type": "code",
      "source": [
        "\"\"\"\n",
        "Problema 4:\n",
        "Escriba un código en Python que, ingresada una nota de 1 a 7, le indique\n",
        "al usuario si fue “Excelente” (mayor o igual que 6), “Bueno” (mayor o\n",
        "igual que 4), “Suficiente” (mayor o igual que 2), o “Insuficiente” (en\n",
        "cualquier otro caso).\n",
        "\"\"\"\n",
        "\n",
        "nota = float(input(\"Ingrese una nota (0-7): \"))\n",
        "\n",
        "if nota >= 6:\n",
        "    print(\"Excelente\")\n",
        "elif nota >= 4:\n",
        "    print(\"Bueno\")\n",
        "elif nota >= 2:\n",
        "    print(\"Suficiente\")\n",
        "else:\n",
        "    print(\"Insuficiente\")"
      ],
      "metadata": {
        "colab": {
          "base_uri": "https://localhost:8080/"
        },
        "id": "DA9miabK8-nq",
        "outputId": "ca7c0202-33a4-401d-978d-4fc693d468f7"
      },
      "execution_count": 4,
      "outputs": [
        {
          "output_type": "stream",
          "name": "stdout",
          "text": [
            "Ingrese una nota (0-7): 3\n",
            "Suficiente\n"
          ]
        }
      ]
    }
  ]
}