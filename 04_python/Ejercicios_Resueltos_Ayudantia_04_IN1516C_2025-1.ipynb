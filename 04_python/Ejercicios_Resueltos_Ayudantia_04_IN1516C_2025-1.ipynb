{
  "nbformat": 4,
  "nbformat_minor": 0,
  "metadata": {
    "colab": {
      "provenance": []
    },
    "kernelspec": {
      "name": "python3",
      "display_name": "Python 3"
    },
    "language_info": {
      "name": "python"
    }
  },
  "cells": [
    {
      "cell_type": "markdown",
      "source": [
        "# Ayudantía 4 | Herramientas de Programación (IN1516C) | Semestre 2025-1"
      ],
      "metadata": {
        "id": "hMNWaZJF37Rp"
      }
    },
    {
      "cell_type": "markdown",
      "source": [
        "## Problema 1"
      ],
      "metadata": {
        "id": "tmgokioQ4KMC"
      }
    },
    {
      "cell_type": "code",
      "execution_count": 1,
      "metadata": {
        "colab": {
          "base_uri": "https://localhost:8080/"
        },
        "id": "fhGX_S2g31_H",
        "outputId": "6d7587e2-ff4d-446b-a304-9ab1063b7de9"
      },
      "outputs": [
        {
          "output_type": "stream",
          "name": "stdout",
          "text": [
            "Ingrese un número: 4\n",
            "Es par\n"
          ]
        }
      ],
      "source": [
        "\"\"\"\n",
        "Problema 1:\n",
        "Escriba un código en Python que determine si un número es par o impar.\n",
        "\"\"\"\n",
        "\n",
        "num = int(input(\"Ingrese un número: \"))\n",
        "\n",
        "if num % 2 == 0:\n",
        "    print(\"Es par\")\n",
        "else:\n",
        "    print(\"Es impar\")"
      ]
    },
    {
      "cell_type": "markdown",
      "source": [
        "## Problema 2"
      ],
      "metadata": {
        "id": "e_iDFTTX4re8"
      }
    },
    {
      "cell_type": "code",
      "source": [
        "\"\"\"\n",
        "Problema 2:\n",
        "Escriba un código en Python que verifique si un número es múltiplo\n",
        "de 3 o 5.\n",
        "\"\"\"\n",
        "\n",
        "num = int(input(\"Ingrese un número: \"))\n",
        "\n",
        "if num % 3 == 0 or num % 5 == 0:\n",
        "    print(f\"{num} es múltiplo de 3 o 5\")\n",
        "else:\n",
        "    print(f\"{num} no es múltiplo de 3 o 5\")"
      ],
      "metadata": {
        "colab": {
          "base_uri": "https://localhost:8080/"
        },
        "id": "G8luyuIl4tvm",
        "outputId": "3d6e37db-ce40-4fe0-a103-6ff81d0b0c7c"
      },
      "execution_count": 2,
      "outputs": [
        {
          "output_type": "stream",
          "name": "stdout",
          "text": [
            "Ingrese un número: 12\n",
            "12 es múltiplo de 3 o 5\n"
          ]
        }
      ]
    },
    {
      "cell_type": "markdown",
      "source": [
        "## Problema 3"
      ],
      "metadata": {
        "id": "U-KUFBkH5DaK"
      }
    },
    {
      "cell_type": "code",
      "source": [
        "\"\"\"\n",
        "Problema 3:\n",
        "Escriba un código en Python que solicite un número al usuario, y le\n",
        "diga si está entre 1 y 100, en caso contrario, le debe indicar que\n",
        "se encuentra fuera del rango.\n",
        "\"\"\"\n",
        "\n",
        "num = int(input(\"Ingrese un número entre 1 y 100: \"))\n",
        "\n",
        "if num >= 1 and num <= 100:\n",
        "    print(f\"{num} está dentro del rango\")\n",
        "else:\n",
        "    print(f\"{num} está fuera del rango\")"
      ],
      "metadata": {
        "colab": {
          "base_uri": "https://localhost:8080/"
        },
        "id": "-Pw-iSQN5E-R",
        "outputId": "b4c2167a-cce8-41ad-ee7a-4e6f2480da48"
      },
      "execution_count": 3,
      "outputs": [
        {
          "output_type": "stream",
          "name": "stdout",
          "text": [
            "Ingrese un número entre 1 y 100: 43\n",
            "43 está dentro del rango\n"
          ]
        }
      ]
    },
    {
      "cell_type": "markdown",
      "source": [
        "## Problema 4"
      ],
      "metadata": {
        "id": "fKhLqKrq5gE3"
      }
    },
    {
      "cell_type": "code",
      "source": [
        "\"\"\"\n",
        "Problema 4:\n",
        "4.\tEscriba un código en Python que pida ingresar un usuario y una\n",
        "contraseña, y que diga “Acceso concedido” si lo ingresado coincide\n",
        "o “Acceso denegado” en caso contrario. Para conceder el acceso, se\n",
        "debe ingresar como usuario “admin” y como contraseña “1234”.\n",
        "\"\"\"\n",
        "\n",
        "usuario = input(\"Usuario: \")\n",
        "contraseña = input(\"Contraseña: \")\n",
        "\n",
        "if usuario == \"admin\" and contraseña == \"1234\":\n",
        "    print(\"Acceso concedido\")\n",
        "else:\n",
        "    print(\"Acceso denegado\")"
      ],
      "metadata": {
        "colab": {
          "base_uri": "https://localhost:8080/"
        },
        "id": "0IufMMYk5hOd",
        "outputId": "172b4ca8-e238-4108-8e72-b19f0e471840"
      },
      "execution_count": 4,
      "outputs": [
        {
          "output_type": "stream",
          "name": "stdout",
          "text": [
            "Usuario: admin\n",
            "Contraseña: 1234\n",
            "Acceso concedido\n"
          ]
        }
      ]
    }
  ]
}